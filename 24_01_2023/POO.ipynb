{
 "cells": [
  {
   "cell_type": "code",
   "execution_count": 77,
   "metadata": {},
   "outputs": [],
   "source": [
    "'''\n",
    "Créons une classe voiture\n",
    "'''\n",
    "\n",
    "class Voiture: \n",
    "    wheels = 4\n",
    "    energy = 'oil'\n",
    "    nb_door = 4\n",
    "    nb_place = 4\n",
    "    \n",
    "    def __init__(self, brand:str, model:str, distance:float, control:bool):\n",
    "        self.brand = brand\n",
    "        self.model = model\n",
    "        self.distance = distance\n",
    "        self.control = control\n",
    "    \n",
    "\n",
    "    def passenger(self, driver:str, copilot:str=None, passenger_1:str=None, passenger_2:str=None):\n",
    "        self.driver = driver\n",
    "        self.copilot = copilot\n",
    "        self.passenger_1 = passenger_1\n",
    "        self.passenger_2 = passenger_2\n",
    "\n",
    "\n",
    "\n",
    "\n",
    "\n",
    "\n",
    "    def tentatative_restante(self, tentative:int):\n",
    "        tentative -= 1\n",
    "        print('Tentatives restantes : {} '.format(tentative))\n",
    "        return tentative\n",
    "\n",
    "\n",
    "\n",
    "    def input_code_pin_user(self, password:str='0000'):\n",
    "        mot_de_passe = input('Enter your password:')\n",
    "\n",
    "        tentative = 3\n",
    "\n",
    "        \n",
    "\n",
    "        while mot_de_passe != password:\n",
    "            self.tentatative_restante(tentative)\n",
    "            tentative -=1\n",
    "            if mot_de_passe == 'exit':\n",
    "                return False\n",
    "\n",
    "            try: \n",
    "                int(mot_de_passe)\n",
    "                print('You have a wrong password !')\n",
    "                mot_de_passe = input('Enter your password : ')\n",
    "                \n",
    "            except:\n",
    "                print('Please enter only alpha numeric caracter')\n",
    "                mot_de_passe = input('Enter your password : ')\n",
    "        \n",
    "        if mot_de_passe == password: \n",
    "            print('You have the right password !')\n",
    "            return True\n",
    "        else:\n",
    "            print('Connection denied')\n",
    "            return False\n",
    "\n",
    "\n",
    "\n",
    "\n",
    "\n",
    "    def driving(self, start:str, final:str, miles:float):\n",
    "\n",
    "        try:\n",
    "            self.driver\n",
    "            if self.input_code_pin_user():\n",
    "                self.distance += miles\n",
    "                print(\"I'am driving : \", True)\n",
    "            else:\n",
    "                print('You can not drive this car')\n",
    "\n",
    "            if self.distance > 5000:\n",
    "                self.control = False\n",
    "            \n",
    "        except:\n",
    "            print('There is no driver')\n",
    "\n",
    "            \n",
    "\n",
    "        \n"
   ]
  },
  {
   "cell_type": "code",
   "execution_count": 78,
   "metadata": {},
   "outputs": [],
   "source": [
    "voiture1 = Voiture('Toyota', 'Yaris', 1000, True)"
   ]
  },
  {
   "cell_type": "code",
   "execution_count": 79,
   "metadata": {},
   "outputs": [],
   "source": [
    "voiture1.passenger('Chris')"
   ]
  },
  {
   "cell_type": "code",
   "execution_count": 80,
   "metadata": {},
   "outputs": [
    {
     "data": {
      "text/plain": [
       "1000"
      ]
     },
     "execution_count": 80,
     "metadata": {},
     "output_type": "execute_result"
    }
   ],
   "source": [
    "voiture1.distance"
   ]
  },
  {
   "cell_type": "code",
   "execution_count": 81,
   "metadata": {},
   "outputs": [
    {
     "name": "stdout",
     "output_type": "stream",
     "text": [
      "Tentatives restantes : 2 \n",
      "You have a wrong password !\n",
      "Tentatives restantes : 1 \n",
      "Please enter only alpha numeric caracter\n",
      "You have the right password !\n",
      "I'am driving :  True\n"
     ]
    }
   ],
   "source": [
    "voiture1.driving('Paris,', 'Nice', 100)"
   ]
  },
  {
   "cell_type": "code",
   "execution_count": 67,
   "metadata": {},
   "outputs": [
    {
     "data": {
      "text/plain": [
       "1100"
      ]
     },
     "execution_count": 67,
     "metadata": {},
     "output_type": "execute_result"
    }
   ],
   "source": [
    "voiture1.distance"
   ]
  },
  {
   "cell_type": "code",
   "execution_count": 93,
   "metadata": {},
   "outputs": [],
   "source": [
    "class Peugeot306(Voiture):\n",
    "\n",
    "    def __init__(self, distance, control, color):\n",
    "        Voiture.__init__(self, 'Peugeot', '306', distance, control)\n",
    "        self.color = color\n",
    "\n",
    "\n",
    "    def \n",
    "\n",
    "\n",
    "    pass"
   ]
  },
  {
   "cell_type": "code",
   "execution_count": 95,
   "metadata": {},
   "outputs": [],
   "source": [
    "peugeot_1 = Peugeot306(0.0, True, 'Black')"
   ]
  },
  {
   "cell_type": "code",
   "execution_count": 97,
   "metadata": {},
   "outputs": [
    {
     "data": {
      "text/plain": [
       "4"
      ]
     },
     "execution_count": 97,
     "metadata": {},
     "output_type": "execute_result"
    }
   ],
   "source": [
    "peugeot_1.wheels"
   ]
  },
  {
   "cell_type": "code",
   "execution_count": null,
   "metadata": {},
   "outputs": [],
   "source": []
  }
 ],
 "metadata": {
  "kernelspec": {
   "display_name": "Python 3",
   "language": "python",
   "name": "python3"
  },
  "language_info": {
   "codemirror_mode": {
    "name": "ipython",
    "version": 3
   },
   "file_extension": ".py",
   "mimetype": "text/x-python",
   "name": "python",
   "nbconvert_exporter": "python",
   "pygments_lexer": "ipython3",
   "version": "3.10.8 (main, Oct 13 2022, 09:48:40) [Clang 14.0.0 (clang-1400.0.29.102)]"
  },
  "orig_nbformat": 4,
  "vscode": {
   "interpreter": {
    "hash": "b0fa6594d8f4cbf19f97940f81e996739fb7646882a419484c72d19e05852a7e"
   }
  }
 },
 "nbformat": 4,
 "nbformat_minor": 2
}
