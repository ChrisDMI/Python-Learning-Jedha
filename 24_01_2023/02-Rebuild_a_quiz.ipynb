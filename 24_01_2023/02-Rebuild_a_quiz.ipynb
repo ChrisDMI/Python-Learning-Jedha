{
 "cells": [
  {
   "cell_type": "markdown",
   "metadata": {},
   "source": [
    "# Build a quiz - Part 2"
   ]
  },
  {
   "cell_type": "markdown",
   "metadata": {},
   "source": [
    "Below is the code we wrote yesterday, that asks three questions to the user and allows up to 3 wrong answers :"
   ]
  },
  {
   "cell_type": "code",
   "execution_count": 1,
   "metadata": {},
   "outputs": [
    {
     "name": "stdout",
     "output_type": "stream",
     "text": [
      "Voici notre quiz, tu as trois chances !\n",
      "Dommage ! Il te reste 2 chances\n",
      "Dommage ! Il te reste 1 chances\n",
      "Bravo ! Tu as gagné le quiz !\n"
     ]
    }
   ],
   "source": [
    "nb_de_chances = 3\n",
    "\n",
    "print(\"Voici notre quiz, tu as trois chances !\")\n",
    "\n",
    "if nb_de_chances > 0:\n",
    "    question1= input(\"Combien de fois la France a gagné la coupe du monde ? \")\n",
    "    while question1 != \"2\":\n",
    "        nb_de_chances -= 1\n",
    "        print(\"Dommage ! Il te reste {} chances\".format(nb_de_chances))\n",
    "        if nb_de_chances == 0:\n",
    "            print(\"Oh non ! Tu as perdu le jeu...\")\n",
    "            break\n",
    "        question1 = input(\"Combien de fois la France a gagné la coupe du monde ? \")\n",
    "\n",
    "if nb_de_chances > 0:\n",
    "    question2 = input(\"Quand a été fondé Apple ? \")\n",
    "    while question2 != \"1976\":\n",
    "        nb_de_chances -=1\n",
    "        print(\"Dommage ! Il te reste {} chances\".format(nb_de_chances))\n",
    "        if nb_de_chances == 0:\n",
    "            print(\"Oh non ! Tu as perdu le jeu...\")\n",
    "            break\n",
    "        question2 = input(\"Quand a été fondé Apple ? \")\n",
    "\n",
    "\n",
    "if nb_de_chances > 0:\n",
    "    question3 = input(\"Qui a fondé SpaceX ? \")\n",
    "    question3 = question3.lower()\n",
    "    while question3 != \"elon musk\":\n",
    "        nb_de_chances -=1\n",
    "        print(\"Dommage ! Il te reste {} chances\".format(nb_de_chances))\n",
    "        if nb_de_chances == 0:\n",
    "            print(\"Oh non ! Tu as perdu le jeu...\")\n",
    "            break\n",
    "        question3 = input(\"Qui a fondé SpaceX ? \")\n",
    "        question3 = question3.lower()\n",
    "\n",
    "if nb_de_chances > 0:\n",
    "    print(\"Bravo ! Tu as gagné le quiz !\")\n"
   ]
  },
  {
   "cell_type": "markdown",
   "metadata": {},
   "source": [
    "Let's refactor our quiz now that we know how to be dry.\n",
    "\n",
    "SPECs: \n",
    "\n",
    "* Your code should be DRY \n",
    "* You should use functions "
   ]
  },
  {
   "cell_type": "code",
   "execution_count": 15,
   "metadata": {},
   "outputs": [],
   "source": [
    "def quiz(answer, just_answer, nb_chance):\n",
    "    \n",
    "    while answer != just_answer:\n",
    "        nb_chance -=1\n",
    "        print(\"Dommage ! Il te reste {} chances\".format(nb_chance))\n",
    "        break\n",
    "\n",
    "    if nb_chance == 0:\n",
    "        print(\"Oh non ! Tu as perdu le jeu...\")\n",
    "       \n",
    "    \n"
   ]
  },
  {
   "cell_type": "code",
   "execution_count": 19,
   "metadata": {},
   "outputs": [
    {
     "name": "stdout",
     "output_type": "stream",
     "text": [
      "Voici notre quiz, tu as trois chances !\n",
      "Dommage ! Il te reste 1 chances\n",
      "Dommage ! Il te reste 0 chances\n",
      "Oh non ! Tu as perdu le jeu...\n"
     ]
    }
   ],
   "source": [
    "nb_de_chances = 3\n",
    "\n",
    "print(\"Voici notre quiz, tu as trois chances !\")\n",
    "\n",
    "questions = ['Combien de fois la France a gagné la coupe du monde ? ', \n",
    "                \"Quand a été fondé Apple ? \",\n",
    "                \"Qui a fondé SpaceX ? \"]\n",
    "\n",
    "\n",
    "just_answers = ['2', '1976', 'elon musk']\n",
    "\n",
    "\n",
    "\n",
    "    \n",
    "# iterer sur le nombre de question\n",
    "for j in range(len(questions)):\n",
    "    answers = input(questions[j])\n",
    "\n",
    "    if answers != just_answers[j]:\n",
    "        nb_de_chances-=1\n",
    "\n",
    "    quiz(answers, just_answers[j], nb_de_chances)\n",
    "    \n",
    "  \n",
    "\n",
    "if answers == just_answers[-1]:\n",
    "        print(\"Bravo ! Tu as gagné le quiz !\")"
   ]
  },
  {
   "cell_type": "code",
   "execution_count": null,
   "metadata": {},
   "outputs": [],
   "source": []
  },
  {
   "cell_type": "code",
   "execution_count": 13,
   "metadata": {},
   "outputs": [
    {
     "name": "stdout",
     "output_type": "stream",
     "text": [
      "Voici notre quiz, tu as trois chances ! \n",
      " \n",
      "\n",
      "Qui a fondé SpaceX ? \n",
      "Dommage ! Il te reste 2 chances\n",
      "Dommage ! Il te reste 1 chances\n",
      "Dommage ! Il te reste 0 chances\n",
      "Oh non ! Tu as perdu le jeu...\n"
     ]
    }
   ],
   "source": [
    "def quiz(question, just_answer, nb_chance):\n",
    "    answer = None\n",
    "    print(question)\n",
    "    while answer != just_answer:\n",
    "        nb_chance -=1\n",
    "        print(\"Dommage ! Il te reste {} chances\".format(nb_chance))\n",
    "        \n",
    "\n",
    "        if nb_chance == 0:\n",
    "            print(\"Oh non ! Tu as perdu le jeu...\")\n",
    "            break\n",
    "\n",
    "        answer = input(question)\n",
    "\n",
    "nb_de_chances = 3\n",
    "\n",
    "print(\"Voici notre quiz, tu as trois chances ! \\n \\n\")\n",
    "\n",
    "questions = ['Combien de fois la France a gagné la coupe du monde ? ', \n",
    "                \"Quand a été fondé Apple ? \",\n",
    "                \"Qui a fondé SpaceX ? \"]\n",
    "\n",
    "\n",
    "just_answers = ['2', '1976', 'elon musk']\n",
    "\n",
    "\n",
    "\n",
    "list_answers = []\n",
    "# iterer sur le nombre de question\n",
    "for i in range(len(questions)):\n",
    "    answers = input(questions[i])\n",
    "\n",
    "    if answers != just_answers[i]: \n",
    "        quiz(questions[i], just_answers[i], nb_de_chances)\n",
    "        break\n",
    "        \n",
    "    list_answers.append(answers)\n",
    "\n",
    "    \n",
    "\n",
    "    \n",
    "    \n",
    "  \n",
    "\n",
    "if list_answers == just_answers:\n",
    "        print(\"Bravo ! Tu as gagné le quiz !\")"
   ]
  },
  {
   "cell_type": "code",
   "execution_count": null,
   "metadata": {},
   "outputs": [],
   "source": []
  }
 ],
 "metadata": {
  "kernelspec": {
   "display_name": "Python 3",
   "language": "python",
   "name": "python3"
  },
  "language_info": {
   "codemirror_mode": {
    "name": "ipython",
    "version": 3
   },
   "file_extension": ".py",
   "mimetype": "text/x-python",
   "name": "python",
   "nbconvert_exporter": "python",
   "pygments_lexer": "ipython3",
   "version": "3.10.8"
  },
  "orig_nbformat": 2,
  "vscode": {
   "interpreter": {
    "hash": "b0fa6594d8f4cbf19f97940f81e996739fb7646882a419484c72d19e05852a7e"
   }
  }
 },
 "nbformat": 4,
 "nbformat_minor": 2
}
