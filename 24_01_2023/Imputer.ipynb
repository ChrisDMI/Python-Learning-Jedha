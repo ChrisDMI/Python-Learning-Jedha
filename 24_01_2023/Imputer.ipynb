{
 "cells": [
  {
   "cell_type": "code",
   "execution_count": 44,
   "metadata": {},
   "outputs": [],
   "source": [
    "class Imputer:\n",
    "    \n",
    "    def __init__(self, list_):\n",
    "        self.list_ = list_\n",
    "\n",
    "    def avg(self):\n",
    "        list_1 = []\n",
    "        for i in self.list_:\n",
    "            if i != None:\n",
    "                list_1.append(i)\n",
    "\n",
    "        \n",
    "        \n",
    "        \n",
    "        tot = 0\n",
    "        for item in list_1:\n",
    "            tot += item\n",
    "\n",
    "        avg_1 = tot/len(list_1)\n",
    "    \n",
    "        list_mod = self.list_.copy()\n",
    "        for i in range(len(list_mod)):\n",
    "            if list_mod[i] == None:\n",
    "                list_mod[i] = avg_1\n",
    "\n",
    "        return print(\"Here's my initial list {}\".format(self.list_) + \"\\n\" + \"Here is my list after imputer : {}\".format(list_mod))\n",
    "\n",
    "\n",
    "\n",
    "\n",
    "    def median(self):\n",
    "            list_1 = []\n",
    "            for i in self.list_:\n",
    "                if i != None:\n",
    "                    list_1.append(i)\n",
    "            \n",
    "            list_2 = sorted(list_1)\n",
    "\n",
    "            if len(list_2)%2!=0:\n",
    "                index = len(list_2)//2\n",
    "                median = list_2[index]\n",
    "            else:\n",
    "                index = len(list_2)//2\n",
    "                median = (list_2[index]+list_2[index+1])/2\n",
    "\n",
    "\n",
    "            \n",
    "        \n",
    "            list_mod = self.list_.copy()\n",
    "            for i in range(len(list_mod)):\n",
    "                if list_mod[i] == None:\n",
    "                    list_mod[i] = median\n",
    "\n",
    "            return print(\"Here's my initial list {}\".format(self.list_) + \"\\n\" + \"Here is my list after imputer : {}\".format(list_mod))\n"
   ]
  },
  {
   "cell_type": "code",
   "execution_count": 45,
   "metadata": {},
   "outputs": [],
   "source": [
    "imput = Imputer([None, 2, 3, 12, 5, 6, None])"
   ]
  },
  {
   "cell_type": "code",
   "execution_count": 46,
   "metadata": {},
   "outputs": [
    {
     "name": "stdout",
     "output_type": "stream",
     "text": [
      "Here's my initial list [None, 2, 3, 12, 5, 6, None]\n",
      "Here is my list after imputer : [5.6, 2, 3, 12, 5, 6, 5.6]\n"
     ]
    }
   ],
   "source": [
    "imput.avg()"
   ]
  },
  {
   "cell_type": "code",
   "execution_count": 47,
   "metadata": {},
   "outputs": [
    {
     "name": "stdout",
     "output_type": "stream",
     "text": [
      "Here's my initial list [None, 2, 3, 12, 5, 6, None]\n",
      "Here is my list after imputer : [5, 2, 3, 12, 5, 6, 5]\n"
     ]
    }
   ],
   "source": [
    "imput.median()"
   ]
  },
  {
   "cell_type": "code",
   "execution_count": null,
   "metadata": {},
   "outputs": [],
   "source": []
  }
 ],
 "metadata": {
  "kernelspec": {
   "display_name": "Python 3",
   "language": "python",
   "name": "python3"
  },
  "language_info": {
   "codemirror_mode": {
    "name": "ipython",
    "version": 3
   },
   "file_extension": ".py",
   "mimetype": "text/x-python",
   "name": "python",
   "nbconvert_exporter": "python",
   "pygments_lexer": "ipython3",
   "version": "3.10.8 (main, Oct 13 2022, 09:48:40) [Clang 14.0.0 (clang-1400.0.29.102)]"
  },
  "orig_nbformat": 4,
  "vscode": {
   "interpreter": {
    "hash": "b0fa6594d8f4cbf19f97940f81e996739fb7646882a419484c72d19e05852a7e"
   }
  }
 },
 "nbformat": 4,
 "nbformat_minor": 2
}
