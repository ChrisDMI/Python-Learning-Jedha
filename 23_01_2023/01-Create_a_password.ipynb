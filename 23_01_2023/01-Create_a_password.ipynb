{
  "cells": [
    {
      "cell_type": "markdown",
      "metadata": {
        "colab_type": "text",
        "id": "FY347VxWs_bJ"
      },
      "source": [
        "# Create a password\n",
        "\n",
        "---\n",
        "\n",
        "\n"
      ]
    },
    {
      "cell_type": "markdown",
      "metadata": {
        "colab_type": "text",
        "id": "tNmCNKUa0c9-"
      },
      "source": [
        "We would like to create a password for JEDHA\n",
        "\n",
        "    1. Using a WHILE loop, find a way to create a very simple authentication script"
      ]
    },
    {
      "cell_type": "code",
      "execution_count": 8,
      "metadata": {},
      "outputs": [],
      "source": [
        "mot_de_passe = input('Enter your password:')\n",
        "\n"
      ]
    },
    {
      "cell_type": "code",
      "execution_count": 9,
      "metadata": {},
      "outputs": [
        {
          "name": "stdout",
          "output_type": "stream",
          "text": [
            "You have a wrong password !\n",
            "You have a wrong password !\n",
            "You have a wrong password !\n",
            "You have the right password !\n"
          ]
        }
      ],
      "source": [
        "while mot_de_passe != 'JEDAH':\n",
        "\n",
        "    if mot_de_passe == 'exit':\n",
        "        break\n",
        "\n",
        "    print('You have a wrong password !')\n",
        "    mot_de_passe = input('Enter your password : ')\n",
        "\n",
        "if mot_de_passe == 'JEDAH': \n",
        "    print('You have the right password !')\n",
        "else:\n",
        "    print('Connection denied')"
      ]
    },
    {
      "cell_type": "code",
      "execution_count": null,
      "metadata": {},
      "outputs": [],
      "source": []
    },
    {
      "cell_type": "code",
      "execution_count": 3,
      "metadata": {},
      "outputs": [
        {
          "name": "stdout",
          "output_type": "stream",
          "text": [
            "Please enter only alpha numeric caracter\n",
            "Tentatives restantes : 2 \n",
            "You have a wrong password !\n",
            "Tentatives restantes : 1 \n",
            "You have the right password !\n"
          ]
        }
      ],
      "source": [
        "mot_de_passe = input('Enter your password:')\n",
        "\n",
        "tentative = 3\n",
        "\n",
        "while mot_de_passe != '0000':\n",
        "\n",
        "    if mot_de_passe == 'exit':\n",
        "        break\n",
        "\n",
        "    try: \n",
        "        int(mot_de_passe)\n",
        "        print('You have a wrong password !')\n",
        "        mot_de_passe = input('Enter your password : ')\n",
        "\n",
        "    except:\n",
        "        print('Please enter only alpha numeric caracter')\n",
        "        mot_de_passe = input('Enter your password : ')\n",
        "\n",
        "        tentative -= 1\n",
        "        print('Tentatives restantes : {} '.format(tentative))\n",
        "\n",
        "if mot_de_passe == '0000': \n",
        "    print('You have the right password !')\n",
        "else:\n",
        "    print('Connection denied')"
      ]
    },
    {
      "cell_type": "code",
      "execution_count": null,
      "metadata": {},
      "outputs": [],
      "source": []
    },
    {
      "cell_type": "code",
      "execution_count": 15,
      "metadata": {},
      "outputs": [],
      "source": [
        "def tentatative_restante(tentative:int):\n",
        "    tentative -= 1\n",
        "    print('Tentatives restantes : {} '.format(tentative))\n",
        "    return tentative\n",
        "\n",
        "\n",
        "\n",
        "def input_code_pin_user(password:str='0000'):\n",
        "    mot_de_passe = input('Enter your password:')\n",
        "\n",
        "    tentative = 3\n",
        "\n",
        "    tentatative_restante(tentative)\n",
        "\n",
        "    while mot_de_passe != password:\n",
        "\n",
        "        if mot_de_passe == 'exit':\n",
        "            return False\n",
        "\n",
        "        try: \n",
        "            int(mot_de_passe)\n",
        "            print('You have a wrong password !')\n",
        "            mot_de_passe = input('Enter your password : ')\n",
        "            \n",
        "        except:\n",
        "            print('Please enter only alpha numeric caracter')\n",
        "            mot_de_passe = input('Enter your password : ')\n",
        "    \n",
        "    if mot_de_passe == password: \n",
        "        print('You have the right password !')\n",
        "        return True\n",
        "    else:\n",
        "        print('Connection denied')\n",
        "        return False"
      ]
    },
    {
      "cell_type": "code",
      "execution_count": 16,
      "metadata": {},
      "outputs": [
        {
          "name": "stdout",
          "output_type": "stream",
          "text": [
            "Tentatives restantes : 2 \n",
            "You have the right password !\n"
          ]
        }
      ],
      "source": [
        "input_code_pin_user()"
      ]
    },
    {
      "cell_type": "code",
      "execution_count": null,
      "metadata": {},
      "outputs": [],
      "source": []
    }
  ],
  "metadata": {
    "colab": {
      "name": "Faire un mot de passe -- S1-1A.ipynb",
      "provenance": [],
      "version": "0.3.2"
    },
    "kernelspec": {
      "display_name": "Python 3",
      "language": "python",
      "name": "python3"
    },
    "language_info": {
      "codemirror_mode": {
        "name": "ipython",
        "version": 3
      },
      "file_extension": ".py",
      "mimetype": "text/x-python",
      "name": "python",
      "nbconvert_exporter": "python",
      "pygments_lexer": "ipython3",
      "version": "3.10.8"
    },
    "vscode": {
      "interpreter": {
        "hash": "b0fa6594d8f4cbf19f97940f81e996739fb7646882a419484c72d19e05852a7e"
      }
    }
  },
  "nbformat": 4,
  "nbformat_minor": 0
}
