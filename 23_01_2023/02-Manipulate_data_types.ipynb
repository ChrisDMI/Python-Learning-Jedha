{
 "cells": [
  {
   "cell_type": "markdown",
   "metadata": {
    "colab_type": "text",
    "id": "kFGKKN4vbaaE"
   },
   "source": [
    "# Lists"
   ]
  },
  {
   "cell_type": "markdown",
   "metadata": {
    "colab_type": "text",
    "id": "UlVSgMBObdHP"
   },
   "source": [
    "Here is a list [\"Hello\", \"I\", \"Michel\", \"am\"]\n",
    "\n",
    "    1. Store this list in a variable we'll call michel\n",
    "    2. Make a loop so that the console returns each of the items in the list\n"
   ]
  },
  {
   "cell_type": "code",
   "execution_count": 1,
   "metadata": {
    "colab": {
     "base_uri": "https://localhost:8080/",
     "height": 88
    },
    "colab_type": "code",
    "id": "RnQP07OQbJZy",
    "outputId": "e4a60cd9-35dc-49d8-e0e4-e66e7db017e7"
   },
   "outputs": [
    {
     "name": "stdout",
     "output_type": "stream",
     "text": [
      "Hello\n",
      "I\n",
      "Michel\n",
      "am\n"
     ]
    }
   ],
   "source": [
    "michel = [\"Hello\", \"I\", \"Michel\", \"am\"]\n",
    "for item in michel:\n",
    "    print(item)"
   ]
  },
  {
   "cell_type": "markdown",
   "metadata": {
    "colab_type": "text",
    "id": "xiFEi_IIbs7l"
   },
   "source": [
    "We have a problem with this sentence, two words are reversed. Find a way to invert the last item with the next-to-last item..."
   ]
  },
  {
   "cell_type": "code",
   "execution_count": 2,
   "metadata": {},
   "outputs": [
    {
     "name": "stdout",
     "output_type": "stream",
     "text": [
      "Hello\n",
      "I\n",
      "am\n",
      "Michel\n"
     ]
    }
   ],
   "source": [
    "a, b = michel.index('Michel'), michel.index('am')\n",
    "michel[a], michel[b] = michel[b], michel[a]\n",
    "\n",
    "for item in michel:\n",
    "    print(item)"
   ]
  },
  {
   "cell_type": "code",
   "execution_count": 2,
   "metadata": {
    "colab": {
     "base_uri": "https://localhost:8080/",
     "height": 88
    },
    "colab_type": "code",
    "id": "fBz1VsYDbv-m",
    "outputId": "6e6e00c3-edac-4960-e65b-d76d39143d1e"
   },
   "outputs": [
    {
     "name": "stdout",
     "output_type": "stream",
     "text": [
      "Hello\n",
      "I\n",
      "am\n",
      "Michel\n"
     ]
    }
   ],
   "source": []
  },
  {
   "cell_type": "markdown",
   "metadata": {
    "colab_type": "text",
    "id": "hrZ1HLVneoRC"
   },
   "source": [
    "Here's a list of ages: [12, 16, 34, 58, 9].\n",
    "\n",
    "    1. Store this age list in a variable that we'll call: \n",
    "\n",
    "\n",
    "\n",
    "```\n",
    "age\n",
    "```\n",
    "\n",
    "\n",
    "\n",
    "    2. We would like this list to be arranged in ascending order, how do we do that?"
   ]
  },
  {
   "cell_type": "code",
   "execution_count": 4,
   "metadata": {},
   "outputs": [
    {
     "name": "stdout",
     "output_type": "stream",
     "text": [
      "[9, 12, 16, 34, 58]\n"
     ]
    }
   ],
   "source": [
    "age = [12, 16, 34, 58, 9]\n",
    "age.sort()\n",
    "print(age)"
   ]
  },
  {
   "cell_type": "code",
   "execution_count": 3,
   "metadata": {
    "colab": {
     "base_uri": "https://localhost:8080/",
     "height": 34
    },
    "colab_type": "code",
    "id": "vRrlfGsQb0TA",
    "outputId": "6f19757d-d294-4a9f-c150-9bb2ca06c481"
   },
   "outputs": [
    {
     "name": "stdout",
     "output_type": "stream",
     "text": [
      "[9, 12, 16, 34, 58]\n"
     ]
    }
   ],
   "source": []
  },
  {
   "cell_type": "markdown",
   "metadata": {
    "colab_type": "text",
    "id": "hyAAuD2-fFMD"
   },
   "source": [
    "# Dictionaries"
   ]
  },
  {
   "cell_type": "markdown",
   "metadata": {
    "colab_type": "text",
    "id": "3-kpKLpmfKGM"
   },
   "source": [
    "We told you that dictionaries are very useful with APIs, so let's try to use the Star Wars API.\n",
    "\n",
    "    1. In your text editor, write:\n",
    "    \n",
    "\n",
    "\n",
    "```\n",
    "import requests\n",
    "request = requests.get(\"https://swapi.dev/api/people/1/\")\n",
    "dic = request.json()\n",
    "```\n",
    "\n",
    "    2. This will make it possible to call the Star Wars API to store it on a dictionary format in a variable called _dic_.\n",
    "    \n",
    "    3. See what's in the dictionary via a loop\n",
    "    \n",
    "    4. We'd like to make a nice phrase to describe the character like this: \n",
    "    \n",
    "    “{{name}} is {{height}} cm tall and weighs {{mass}} kg. He was born in {{birth_year}}”\n"
   ]
  },
  {
   "cell_type": "code",
   "execution_count": 5,
   "metadata": {},
   "outputs": [
    {
     "name": "stdout",
     "output_type": "stream",
     "text": [
      "('name', 'Luke Skywalker')\n",
      "('height', '172')\n",
      "('mass', '77')\n",
      "('hair_color', 'blond')\n",
      "('skin_color', 'fair')\n",
      "('eye_color', 'blue')\n",
      "('birth_year', '19BBY')\n",
      "('gender', 'male')\n",
      "('homeworld', 'https://swapi.dev/api/planets/1/')\n",
      "('films', ['https://swapi.dev/api/films/1/', 'https://swapi.dev/api/films/2/', 'https://swapi.dev/api/films/3/', 'https://swapi.dev/api/films/6/'])\n",
      "('species', [])\n",
      "('vehicles', ['https://swapi.dev/api/vehicles/14/', 'https://swapi.dev/api/vehicles/30/'])\n",
      "('starships', ['https://swapi.dev/api/starships/12/', 'https://swapi.dev/api/starships/22/'])\n",
      "('created', '2014-12-09T13:50:51.644000Z')\n",
      "('edited', '2014-12-20T21:17:56.891000Z')\n",
      "('url', 'https://swapi.dev/api/people/1/')\n"
     ]
    }
   ],
   "source": [
    "import requests\n",
    "\n",
    "request = requests.get(\"https://swapi.dev/api/people/1/\")\n",
    "dic = request.json()\n",
    "\n",
    "for item in dic.items():\n",
    "    print(item)"
   ]
  },
  {
   "cell_type": "code",
   "execution_count": 11,
   "metadata": {},
   "outputs": [
    {
     "name": "stdout",
     "output_type": "stream",
     "text": [
      "Luke Skywalker is 172 cm tall and weighs 77 Kg. He was born in 19BBY\n"
     ]
    }
   ],
   "source": [
    "name = dic['name']\n",
    "height = dic['height']\n",
    "mass = dic['mass']\n",
    "birth_year = dic['birth_year']\n",
    "\n",
    "print('{} is {} cm tall and weighs {} Kg. He was born in {}'.format(name, height, mass, birth_year))"
   ]
  },
  {
   "cell_type": "code",
   "execution_count": 4,
   "metadata": {
    "colab": {
     "base_uri": "https://localhost:8080/",
     "height": 34
    },
    "colab_type": "code",
    "id": "0AWON7CZf_aI",
    "outputId": "8ad3784a-0d9e-4a5a-ef05-9050de332da1"
   },
   "outputs": [
    {
     "name": "stdout",
     "output_type": "stream",
     "text": [
      "Leia Organa is 150 cm tall and weighs 49 kg. She was born in 19BBY\n"
     ]
    }
   ],
   "source": []
  },
  {
   "cell_type": "markdown",
   "metadata": {
    "colab_type": "text",
    "id": "aQsKk1BKg4Mt"
   },
   "source": [
    "# Slices"
   ]
  },
  {
   "cell_type": "markdown",
   "metadata": {
    "colab_type": "text",
    "id": "0PIM5zcfg94N"
   },
   "source": [
    " We have the following dataset: ` kilometres_travelled = [50, 10, 100, 25, 1000, 21, 12,30]`\n",
    " \n",
    "    1. This variable represents a list of kilometres travelled every morning by 8 users to work.\n",
    "    2. Using a loop, calculate the total average of all the users' trips\n",
    "    3. Is this average representative of what all individuals really go through? Why do you think so?"
   ]
  },
  {
   "cell_type": "code",
   "execution_count": 15,
   "metadata": {},
   "outputs": [
    {
     "name": "stdout",
     "output_type": "stream",
     "text": [
      "156.0\n"
     ]
    }
   ],
   "source": [
    "kilometres_travelled = [50, 10, 100, 25, 1000, 21, 12, 30]\n",
    "\n",
    "tot1 = 0\n",
    "for item in kilometres_travelled:\n",
    "    tot1 += item\n",
    "\n",
    "print(tot1/len(kilometres_travelled))"
   ]
  },
  {
   "cell_type": "code",
   "execution_count": 16,
   "metadata": {},
   "outputs": [
    {
     "name": "stdout",
     "output_type": "stream",
     "text": [
      "156.0\n"
     ]
    }
   ],
   "source": [
    "tot2=0\n",
    "i0 = 0\n",
    "while i0 < len(kilometres_travelled):\n",
    "    tot2 += kilometres_travelled[i0]\n",
    "    i0 += 1\n",
    "\n",
    "print(tot2/len(kilometres_travelled))"
   ]
  },
  {
   "cell_type": "code",
   "execution_count": 17,
   "metadata": {},
   "outputs": [
    {
     "name": "stdout",
     "output_type": "stream",
     "text": [
      "No, this average is not representative of what all individuals really go through !\n"
     ]
    }
   ],
   "source": [
    "print('No, this average is not representative of what all individuals really go through !')"
   ]
  },
  {
   "cell_type": "code",
   "execution_count": 5,
   "metadata": {
    "colab": {
     "base_uri": "https://localhost:8080/",
     "height": 34
    },
    "colab_type": "code",
    "id": "GbysQcOhgfhF",
    "outputId": "2a436dee-11b0-4f76-8472-c720184fa356"
   },
   "outputs": [
    {
     "name": "stdout",
     "output_type": "stream",
     "text": [
      "On average, users travelled 156.0 km to get to work.\n"
     ]
    }
   ],
   "source": []
  },
  {
   "cell_type": "markdown",
   "metadata": {
    "colab_type": "text",
    "id": "VL5vB43YhJV5"
   },
   "source": [
    "    4. Change the variable kilometers_travelled to have a more representative average\n"
   ]
  },
  {
   "cell_type": "code",
   "execution_count": 27,
   "metadata": {},
   "outputs": [
    {
     "name": "stdout",
     "output_type": "stream",
     "text": [
      "35.43125\n"
     ]
    }
   ],
   "source": [
    "kilometres_travelled = [50, 40, 32, 25, 10, 34.45, 62, 30]\n",
    "\n",
    "tot1 = 0\n",
    "for item in kilometres_travelled:\n",
    "    tot1 += item\n",
    "\n",
    "print(tot1/len(kilometres_travelled))"
   ]
  },
  {
   "cell_type": "code",
   "execution_count": 6,
   "metadata": {},
   "outputs": [
    {
     "name": "stdout",
     "output_type": "stream",
     "text": [
      "On average, users travelled 35.42857142857143 km to get to work.\n"
     ]
    }
   ],
   "source": []
  }
 ],
 "metadata": {
  "colab": {
   "collapsed_sections": [],
   "name": "Manipuler des collections de données - SOLUTIONS S1-2A.ipynb",
   "provenance": []
  },
  "kernelspec": {
   "display_name": "Python 3",
   "language": "python",
   "name": "python3"
  },
  "language_info": {
   "codemirror_mode": {
    "name": "ipython",
    "version": 3
   },
   "file_extension": ".py",
   "mimetype": "text/x-python",
   "name": "python",
   "nbconvert_exporter": "python",
   "pygments_lexer": "ipython3",
   "version": "3.10.8 (main, Oct 13 2022, 09:48:40) [Clang 14.0.0 (clang-1400.0.29.102)]"
  },
  "vscode": {
   "interpreter": {
    "hash": "b0fa6594d8f4cbf19f97940f81e996739fb7646882a419484c72d19e05852a7e"
   }
  }
 },
 "nbformat": 4,
 "nbformat_minor": 1
}
